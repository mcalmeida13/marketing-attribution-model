{
  "nbformat": 4,
  "nbformat_minor": 0,
  "metadata": {
    "colab": {
      "name": "marketing-attribution-model.ipynb",
      "provenance": [],
      "authorship_tag": "ABX9TyNt8WWy0upw8t41gmXDlsNA",
      "include_colab_link": true
    },
    "kernelspec": {
      "name": "python3",
      "display_name": "Python 3"
    },
    "language_info": {
      "name": "python"
    }
  },
  "cells": [
    {
      "cell_type": "markdown",
      "metadata": {
        "id": "view-in-github",
        "colab_type": "text"
      },
      "source": [
        "<a href=\"https://colab.research.google.com/github/mcalmeida13/marketing-attribution-model/blob/main/marketing_attribution_model.ipynb\" target=\"_parent\"><img src=\"https://colab.research.google.com/assets/colab-badge.svg\" alt=\"Open In Colab\"/></a>"
      ]
    },
    {
      "cell_type": "code",
      "metadata": {
        "id": "zrwtp1EiToFc"
      },
      "source": [
        "import numpy as np\n",
        "import pandas as pd\n",
        "import seaborn as sns\n",
        "import matplotlib.pyplot as plt\n",
        "import subprocess"
      ],
      "execution_count": null,
      "outputs": []
    },
    {
      "cell_type": "code",
      "metadata": {
        "colab": {
          "base_uri": "https://localhost:8080/",
          "height": 442
        },
        "id": "w6nU0-JBSxDF",
        "outputId": "db0d10a9-6279-400e-b28c-5c77377bf626"
      },
      "source": [
        "path = 'https://raw.githubusercontent.com/mcalmeida13/marketing-attribution-model/main/Channel_attribution.csv'\n",
        "df = pd.read_csv(path)\n",
        "df"
      ],
      "execution_count": null,
      "outputs": [
        {
          "output_type": "execute_result",
          "data": {
            "text/html": [
              "<div>\n",
              "<style scoped>\n",
              "    .dataframe tbody tr th:only-of-type {\n",
              "        vertical-align: middle;\n",
              "    }\n",
              "\n",
              "    .dataframe tbody tr th {\n",
              "        vertical-align: top;\n",
              "    }\n",
              "\n",
              "    .dataframe thead th {\n",
              "        text-align: right;\n",
              "    }\n",
              "</style>\n",
              "<table border=\"1\" class=\"dataframe\">\n",
              "  <thead>\n",
              "    <tr style=\"text-align: right;\">\n",
              "      <th></th>\n",
              "      <th>R05A.01</th>\n",
              "      <th>R05A.02</th>\n",
              "      <th>R05A.03</th>\n",
              "      <th>R05A.04</th>\n",
              "      <th>R05A.05</th>\n",
              "      <th>R05A.06</th>\n",
              "      <th>R05A.07</th>\n",
              "      <th>R05A.08</th>\n",
              "      <th>R05A.09</th>\n",
              "      <th>R05A.10</th>\n",
              "      <th>R05A.11</th>\n",
              "      <th>R05A.12</th>\n",
              "      <th>R05A.13</th>\n",
              "      <th>R05A.14</th>\n",
              "      <th>R05A.15</th>\n",
              "      <th>R05A.16</th>\n",
              "      <th>R05A.17</th>\n",
              "      <th>R05A.18</th>\n",
              "      <th>R05A.19</th>\n",
              "      <th>R05A.20</th>\n",
              "      <th>Output</th>\n",
              "    </tr>\n",
              "  </thead>\n",
              "  <tbody>\n",
              "    <tr>\n",
              "      <th>0</th>\n",
              "      <td>16</td>\n",
              "      <td>4</td>\n",
              "      <td>3.0</td>\n",
              "      <td>5.0</td>\n",
              "      <td>10.0</td>\n",
              "      <td>8.0</td>\n",
              "      <td>6.0</td>\n",
              "      <td>8.0</td>\n",
              "      <td>13.0</td>\n",
              "      <td>20.0</td>\n",
              "      <td>21.0</td>\n",
              "      <td>NaN</td>\n",
              "      <td>NaN</td>\n",
              "      <td>NaN</td>\n",
              "      <td>NaN</td>\n",
              "      <td>NaN</td>\n",
              "      <td>NaN</td>\n",
              "      <td>NaN</td>\n",
              "      <td>NaN</td>\n",
              "      <td>NaN</td>\n",
              "      <td>NaN</td>\n",
              "    </tr>\n",
              "    <tr>\n",
              "      <th>1</th>\n",
              "      <td>2</td>\n",
              "      <td>1</td>\n",
              "      <td>9.0</td>\n",
              "      <td>10.0</td>\n",
              "      <td>1.0</td>\n",
              "      <td>4.0</td>\n",
              "      <td>3.0</td>\n",
              "      <td>21.0</td>\n",
              "      <td>NaN</td>\n",
              "      <td>NaN</td>\n",
              "      <td>NaN</td>\n",
              "      <td>NaN</td>\n",
              "      <td>NaN</td>\n",
              "      <td>NaN</td>\n",
              "      <td>NaN</td>\n",
              "      <td>NaN</td>\n",
              "      <td>NaN</td>\n",
              "      <td>NaN</td>\n",
              "      <td>NaN</td>\n",
              "      <td>NaN</td>\n",
              "      <td>NaN</td>\n",
              "    </tr>\n",
              "    <tr>\n",
              "      <th>2</th>\n",
              "      <td>9</td>\n",
              "      <td>13</td>\n",
              "      <td>20.0</td>\n",
              "      <td>16.0</td>\n",
              "      <td>15.0</td>\n",
              "      <td>21.0</td>\n",
              "      <td>NaN</td>\n",
              "      <td>NaN</td>\n",
              "      <td>NaN</td>\n",
              "      <td>NaN</td>\n",
              "      <td>NaN</td>\n",
              "      <td>NaN</td>\n",
              "      <td>NaN</td>\n",
              "      <td>NaN</td>\n",
              "      <td>NaN</td>\n",
              "      <td>NaN</td>\n",
              "      <td>NaN</td>\n",
              "      <td>NaN</td>\n",
              "      <td>NaN</td>\n",
              "      <td>NaN</td>\n",
              "      <td>NaN</td>\n",
              "    </tr>\n",
              "    <tr>\n",
              "      <th>3</th>\n",
              "      <td>8</td>\n",
              "      <td>15</td>\n",
              "      <td>20.0</td>\n",
              "      <td>21.0</td>\n",
              "      <td>NaN</td>\n",
              "      <td>NaN</td>\n",
              "      <td>NaN</td>\n",
              "      <td>NaN</td>\n",
              "      <td>NaN</td>\n",
              "      <td>NaN</td>\n",
              "      <td>NaN</td>\n",
              "      <td>NaN</td>\n",
              "      <td>NaN</td>\n",
              "      <td>NaN</td>\n",
              "      <td>NaN</td>\n",
              "      <td>NaN</td>\n",
              "      <td>NaN</td>\n",
              "      <td>NaN</td>\n",
              "      <td>NaN</td>\n",
              "      <td>NaN</td>\n",
              "      <td>NaN</td>\n",
              "    </tr>\n",
              "    <tr>\n",
              "      <th>4</th>\n",
              "      <td>16</td>\n",
              "      <td>9</td>\n",
              "      <td>13.0</td>\n",
              "      <td>20.0</td>\n",
              "      <td>21.0</td>\n",
              "      <td>NaN</td>\n",
              "      <td>NaN</td>\n",
              "      <td>NaN</td>\n",
              "      <td>NaN</td>\n",
              "      <td>NaN</td>\n",
              "      <td>NaN</td>\n",
              "      <td>NaN</td>\n",
              "      <td>NaN</td>\n",
              "      <td>NaN</td>\n",
              "      <td>NaN</td>\n",
              "      <td>NaN</td>\n",
              "      <td>NaN</td>\n",
              "      <td>NaN</td>\n",
              "      <td>NaN</td>\n",
              "      <td>NaN</td>\n",
              "      <td>NaN</td>\n",
              "    </tr>\n",
              "    <tr>\n",
              "      <th>...</th>\n",
              "      <td>...</td>\n",
              "      <td>...</td>\n",
              "      <td>...</td>\n",
              "      <td>...</td>\n",
              "      <td>...</td>\n",
              "      <td>...</td>\n",
              "      <td>...</td>\n",
              "      <td>...</td>\n",
              "      <td>...</td>\n",
              "      <td>...</td>\n",
              "      <td>...</td>\n",
              "      <td>...</td>\n",
              "      <td>...</td>\n",
              "      <td>...</td>\n",
              "      <td>...</td>\n",
              "      <td>...</td>\n",
              "      <td>...</td>\n",
              "      <td>...</td>\n",
              "      <td>...</td>\n",
              "      <td>...</td>\n",
              "      <td>...</td>\n",
              "    </tr>\n",
              "    <tr>\n",
              "      <th>2387</th>\n",
              "      <td>4</td>\n",
              "      <td>4</td>\n",
              "      <td>5.0</td>\n",
              "      <td>12.0</td>\n",
              "      <td>13.0</td>\n",
              "      <td>2.0</td>\n",
              "      <td>20.0</td>\n",
              "      <td>21.0</td>\n",
              "      <td>NaN</td>\n",
              "      <td>NaN</td>\n",
              "      <td>NaN</td>\n",
              "      <td>NaN</td>\n",
              "      <td>NaN</td>\n",
              "      <td>NaN</td>\n",
              "      <td>NaN</td>\n",
              "      <td>NaN</td>\n",
              "      <td>NaN</td>\n",
              "      <td>NaN</td>\n",
              "      <td>NaN</td>\n",
              "      <td>NaN</td>\n",
              "      <td>NaN</td>\n",
              "    </tr>\n",
              "    <tr>\n",
              "      <th>2388</th>\n",
              "      <td>9</td>\n",
              "      <td>16</td>\n",
              "      <td>17.0</td>\n",
              "      <td>15.0</td>\n",
              "      <td>20.0</td>\n",
              "      <td>21.0</td>\n",
              "      <td>NaN</td>\n",
              "      <td>NaN</td>\n",
              "      <td>NaN</td>\n",
              "      <td>NaN</td>\n",
              "      <td>NaN</td>\n",
              "      <td>NaN</td>\n",
              "      <td>NaN</td>\n",
              "      <td>NaN</td>\n",
              "      <td>NaN</td>\n",
              "      <td>NaN</td>\n",
              "      <td>NaN</td>\n",
              "      <td>NaN</td>\n",
              "      <td>NaN</td>\n",
              "      <td>NaN</td>\n",
              "      <td>NaN</td>\n",
              "    </tr>\n",
              "    <tr>\n",
              "      <th>2389</th>\n",
              "      <td>10</td>\n",
              "      <td>6</td>\n",
              "      <td>5.0</td>\n",
              "      <td>4.0</td>\n",
              "      <td>2.0</td>\n",
              "      <td>9.0</td>\n",
              "      <td>20.0</td>\n",
              "      <td>21.0</td>\n",
              "      <td>NaN</td>\n",
              "      <td>NaN</td>\n",
              "      <td>NaN</td>\n",
              "      <td>NaN</td>\n",
              "      <td>NaN</td>\n",
              "      <td>NaN</td>\n",
              "      <td>NaN</td>\n",
              "      <td>NaN</td>\n",
              "      <td>NaN</td>\n",
              "      <td>NaN</td>\n",
              "      <td>NaN</td>\n",
              "      <td>NaN</td>\n",
              "      <td>NaN</td>\n",
              "    </tr>\n",
              "    <tr>\n",
              "      <th>2390</th>\n",
              "      <td>10</td>\n",
              "      <td>6</td>\n",
              "      <td>11.0</td>\n",
              "      <td>20.0</td>\n",
              "      <td>21.0</td>\n",
              "      <td>NaN</td>\n",
              "      <td>NaN</td>\n",
              "      <td>NaN</td>\n",
              "      <td>NaN</td>\n",
              "      <td>NaN</td>\n",
              "      <td>NaN</td>\n",
              "      <td>NaN</td>\n",
              "      <td>NaN</td>\n",
              "      <td>NaN</td>\n",
              "      <td>NaN</td>\n",
              "      <td>NaN</td>\n",
              "      <td>NaN</td>\n",
              "      <td>NaN</td>\n",
              "      <td>NaN</td>\n",
              "      <td>NaN</td>\n",
              "      <td>NaN</td>\n",
              "    </tr>\n",
              "    <tr>\n",
              "      <th>2391</th>\n",
              "      <td>1</td>\n",
              "      <td>4</td>\n",
              "      <td>9.0</td>\n",
              "      <td>10.0</td>\n",
              "      <td>20.0</td>\n",
              "      <td>21.0</td>\n",
              "      <td>NaN</td>\n",
              "      <td>NaN</td>\n",
              "      <td>NaN</td>\n",
              "      <td>NaN</td>\n",
              "      <td>NaN</td>\n",
              "      <td>NaN</td>\n",
              "      <td>NaN</td>\n",
              "      <td>NaN</td>\n",
              "      <td>NaN</td>\n",
              "      <td>NaN</td>\n",
              "      <td>NaN</td>\n",
              "      <td>NaN</td>\n",
              "      <td>NaN</td>\n",
              "      <td>NaN</td>\n",
              "      <td>NaN</td>\n",
              "    </tr>\n",
              "  </tbody>\n",
              "</table>\n",
              "<p>2392 rows × 21 columns</p>\n",
              "</div>"
            ],
            "text/plain": [
              "      R05A.01  R05A.02  R05A.03  R05A.04  ...  R05A.18  R05A.19  R05A.20  Output\n",
              "0          16        4      3.0      5.0  ...      NaN      NaN      NaN     NaN\n",
              "1           2        1      9.0     10.0  ...      NaN      NaN      NaN     NaN\n",
              "2           9       13     20.0     16.0  ...      NaN      NaN      NaN     NaN\n",
              "3           8       15     20.0     21.0  ...      NaN      NaN      NaN     NaN\n",
              "4          16        9     13.0     20.0  ...      NaN      NaN      NaN     NaN\n",
              "...       ...      ...      ...      ...  ...      ...      ...      ...     ...\n",
              "2387        4        4      5.0     12.0  ...      NaN      NaN      NaN     NaN\n",
              "2388        9       16     17.0     15.0  ...      NaN      NaN      NaN     NaN\n",
              "2389       10        6      5.0      4.0  ...      NaN      NaN      NaN     NaN\n",
              "2390       10        6     11.0     20.0  ...      NaN      NaN      NaN     NaN\n",
              "2391        1        4      9.0     10.0  ...      NaN      NaN      NaN     NaN\n",
              "\n",
              "[2392 rows x 21 columns]"
            ]
          },
          "metadata": {},
          "execution_count": 6
        }
      ]
    },
    {
      "cell_type": "markdown",
      "metadata": {
        "id": "ar2s989HTrc8"
      },
      "source": [
        "Columns: Engaged activities\n",
        "\n",
        "Rows: Channels that were engaged with, in chronological order. In this case, each marketing channel is assigned a fixed numbered value which is then displayed in a column n if the n’th engagement from a given user was with that marketing channel. \n",
        "\n",
        "Channel 21 is a conversion and our dataset only contains records of converting user journeys.\n"
      ]
    },
    {
      "cell_type": "code",
      "metadata": {
        "colab": {
          "base_uri": "https://localhost:8080/"
        },
        "id": "W_pmBGl-UqRQ",
        "outputId": "417ec9e3-cece-464a-87db-d4b281a85216"
      },
      "source": [
        "cols = df.columns\n",
        "cols"
      ],
      "execution_count": null,
      "outputs": [
        {
          "output_type": "execute_result",
          "data": {
            "text/plain": [
              "Index(['R05A.01', 'R05A.02', 'R05A.03', 'R05A.04', 'R05A.05', 'R05A.06',\n",
              "       'R05A.07', 'R05A.08', 'R05A.09', 'R05A.10', 'R05A.11', 'R05A.12',\n",
              "       'R05A.13', 'R05A.14', 'R05A.15', 'R05A.16', 'R05A.17', 'R05A.18',\n",
              "       'R05A.19', 'R05A.20', 'Output'],\n",
              "      dtype='object')"
            ]
          },
          "metadata": {},
          "execution_count": 7
        }
      ]
    },
    {
      "cell_type": "code",
      "metadata": {
        "id": "pKByQ_-iUzy7"
      },
      "source": [
        "#Transform the dataset entry into string and remove '.0'\n",
        "for col in cols:\n",
        "  df[col] = df[col].astype(str)\n",
        "  df[col] = df[col].apply(lambda x: x.replace('.0',''))"
      ],
      "execution_count": null,
      "outputs": []
    },
    {
      "cell_type": "code",
      "metadata": {
        "colab": {
          "base_uri": "https://localhost:8080/",
          "height": 205
        },
        "id": "PAsjxHczVQT1",
        "outputId": "3a28b1c3-bc45-4211-997b-ff6db13baf32"
      },
      "source": [
        "df.head()"
      ],
      "execution_count": null,
      "outputs": [
        {
          "output_type": "execute_result",
          "data": {
            "text/html": [
              "<div>\n",
              "<style scoped>\n",
              "    .dataframe tbody tr th:only-of-type {\n",
              "        vertical-align: middle;\n",
              "    }\n",
              "\n",
              "    .dataframe tbody tr th {\n",
              "        vertical-align: top;\n",
              "    }\n",
              "\n",
              "    .dataframe thead th {\n",
              "        text-align: right;\n",
              "    }\n",
              "</style>\n",
              "<table border=\"1\" class=\"dataframe\">\n",
              "  <thead>\n",
              "    <tr style=\"text-align: right;\">\n",
              "      <th></th>\n",
              "      <th>R05A.01</th>\n",
              "      <th>R05A.02</th>\n",
              "      <th>R05A.03</th>\n",
              "      <th>R05A.04</th>\n",
              "      <th>R05A.05</th>\n",
              "      <th>R05A.06</th>\n",
              "      <th>R05A.07</th>\n",
              "      <th>R05A.08</th>\n",
              "      <th>R05A.09</th>\n",
              "      <th>R05A.10</th>\n",
              "      <th>R05A.11</th>\n",
              "      <th>R05A.12</th>\n",
              "      <th>R05A.13</th>\n",
              "      <th>R05A.14</th>\n",
              "      <th>R05A.15</th>\n",
              "      <th>R05A.16</th>\n",
              "      <th>R05A.17</th>\n",
              "      <th>R05A.18</th>\n",
              "      <th>R05A.19</th>\n",
              "      <th>R05A.20</th>\n",
              "      <th>Output</th>\n",
              "    </tr>\n",
              "  </thead>\n",
              "  <tbody>\n",
              "    <tr>\n",
              "      <th>0</th>\n",
              "      <td>16</td>\n",
              "      <td>4</td>\n",
              "      <td>3</td>\n",
              "      <td>5</td>\n",
              "      <td>10</td>\n",
              "      <td>8</td>\n",
              "      <td>6</td>\n",
              "      <td>8</td>\n",
              "      <td>13</td>\n",
              "      <td>20</td>\n",
              "      <td>21</td>\n",
              "      <td>nan</td>\n",
              "      <td>nan</td>\n",
              "      <td>nan</td>\n",
              "      <td>nan</td>\n",
              "      <td>nan</td>\n",
              "      <td>nan</td>\n",
              "      <td>nan</td>\n",
              "      <td>nan</td>\n",
              "      <td>nan</td>\n",
              "      <td>nan</td>\n",
              "    </tr>\n",
              "    <tr>\n",
              "      <th>1</th>\n",
              "      <td>2</td>\n",
              "      <td>1</td>\n",
              "      <td>9</td>\n",
              "      <td>10</td>\n",
              "      <td>1</td>\n",
              "      <td>4</td>\n",
              "      <td>3</td>\n",
              "      <td>21</td>\n",
              "      <td>nan</td>\n",
              "      <td>nan</td>\n",
              "      <td>nan</td>\n",
              "      <td>nan</td>\n",
              "      <td>nan</td>\n",
              "      <td>nan</td>\n",
              "      <td>nan</td>\n",
              "      <td>nan</td>\n",
              "      <td>nan</td>\n",
              "      <td>nan</td>\n",
              "      <td>nan</td>\n",
              "      <td>nan</td>\n",
              "      <td>nan</td>\n",
              "    </tr>\n",
              "    <tr>\n",
              "      <th>2</th>\n",
              "      <td>9</td>\n",
              "      <td>13</td>\n",
              "      <td>20</td>\n",
              "      <td>16</td>\n",
              "      <td>15</td>\n",
              "      <td>21</td>\n",
              "      <td>nan</td>\n",
              "      <td>nan</td>\n",
              "      <td>nan</td>\n",
              "      <td>nan</td>\n",
              "      <td>nan</td>\n",
              "      <td>nan</td>\n",
              "      <td>nan</td>\n",
              "      <td>nan</td>\n",
              "      <td>nan</td>\n",
              "      <td>nan</td>\n",
              "      <td>nan</td>\n",
              "      <td>nan</td>\n",
              "      <td>nan</td>\n",
              "      <td>nan</td>\n",
              "      <td>nan</td>\n",
              "    </tr>\n",
              "    <tr>\n",
              "      <th>3</th>\n",
              "      <td>8</td>\n",
              "      <td>15</td>\n",
              "      <td>20</td>\n",
              "      <td>21</td>\n",
              "      <td>nan</td>\n",
              "      <td>nan</td>\n",
              "      <td>nan</td>\n",
              "      <td>nan</td>\n",
              "      <td>nan</td>\n",
              "      <td>nan</td>\n",
              "      <td>nan</td>\n",
              "      <td>nan</td>\n",
              "      <td>nan</td>\n",
              "      <td>nan</td>\n",
              "      <td>nan</td>\n",
              "      <td>nan</td>\n",
              "      <td>nan</td>\n",
              "      <td>nan</td>\n",
              "      <td>nan</td>\n",
              "      <td>nan</td>\n",
              "      <td>nan</td>\n",
              "    </tr>\n",
              "    <tr>\n",
              "      <th>4</th>\n",
              "      <td>16</td>\n",
              "      <td>9</td>\n",
              "      <td>13</td>\n",
              "      <td>20</td>\n",
              "      <td>21</td>\n",
              "      <td>nan</td>\n",
              "      <td>nan</td>\n",
              "      <td>nan</td>\n",
              "      <td>nan</td>\n",
              "      <td>nan</td>\n",
              "      <td>nan</td>\n",
              "      <td>nan</td>\n",
              "      <td>nan</td>\n",
              "      <td>nan</td>\n",
              "      <td>nan</td>\n",
              "      <td>nan</td>\n",
              "      <td>nan</td>\n",
              "      <td>nan</td>\n",
              "      <td>nan</td>\n",
              "      <td>nan</td>\n",
              "      <td>nan</td>\n",
              "    </tr>\n",
              "  </tbody>\n",
              "</table>\n",
              "</div>"
            ],
            "text/plain": [
              "  R05A.01 R05A.02 R05A.03 R05A.04  ... R05A.18 R05A.19 R05A.20 Output\n",
              "0      16       4       3       5  ...     nan     nan     nan    nan\n",
              "1       2       1       9      10  ...     nan     nan     nan    nan\n",
              "2       9      13      20      16  ...     nan     nan     nan    nan\n",
              "3       8      15      20      21  ...     nan     nan     nan    nan\n",
              "4      16       9      13      20  ...     nan     nan     nan    nan\n",
              "\n",
              "[5 rows x 21 columns]"
            ]
          },
          "metadata": {},
          "execution_count": 9
        }
      ]
    },
    {
      "cell_type": "code",
      "metadata": {
        "id": "fE8ghquOVRPU"
      },
      "source": [
        "#Create a total path variable\n",
        "df['Path'] = ''\n",
        "for i in df.index:\n",
        "  for x in cols:\n",
        "    df.at[i,'Path'] = df.at[i,'Path'] + df.at[i,x] + ' > '"
      ],
      "execution_count": null,
      "outputs": []
    },
    {
      "cell_type": "code",
      "metadata": {
        "colab": {
          "base_uri": "https://localhost:8080/",
          "height": 1000
        },
        "id": "-6SbiJVnVp7z",
        "outputId": "c450e0b7-b4ad-43b6-c4a7-8b9627028d21"
      },
      "source": [
        "df.head()"
      ],
      "execution_count": null,
      "outputs": [
        {
          "output_type": "execute_result",
          "data": {
            "text/html": [
              "<div>\n",
              "<style scoped>\n",
              "    .dataframe tbody tr th:only-of-type {\n",
              "        vertical-align: middle;\n",
              "    }\n",
              "\n",
              "    .dataframe tbody tr th {\n",
              "        vertical-align: top;\n",
              "    }\n",
              "\n",
              "    .dataframe thead th {\n",
              "        text-align: right;\n",
              "    }\n",
              "</style>\n",
              "<table border=\"1\" class=\"dataframe\">\n",
              "  <thead>\n",
              "    <tr style=\"text-align: right;\">\n",
              "      <th></th>\n",
              "      <th>R05A.01</th>\n",
              "      <th>R05A.02</th>\n",
              "      <th>R05A.03</th>\n",
              "      <th>R05A.04</th>\n",
              "      <th>R05A.05</th>\n",
              "      <th>R05A.06</th>\n",
              "      <th>R05A.07</th>\n",
              "      <th>R05A.08</th>\n",
              "      <th>R05A.09</th>\n",
              "      <th>R05A.10</th>\n",
              "      <th>R05A.11</th>\n",
              "      <th>R05A.12</th>\n",
              "      <th>R05A.13</th>\n",
              "      <th>R05A.14</th>\n",
              "      <th>R05A.15</th>\n",
              "      <th>R05A.16</th>\n",
              "      <th>R05A.17</th>\n",
              "      <th>R05A.18</th>\n",
              "      <th>R05A.19</th>\n",
              "      <th>R05A.20</th>\n",
              "      <th>Output</th>\n",
              "      <th>Path</th>\n",
              "    </tr>\n",
              "  </thead>\n",
              "  <tbody>\n",
              "    <tr>\n",
              "      <th>0</th>\n",
              "      <td>16</td>\n",
              "      <td>4</td>\n",
              "      <td>3</td>\n",
              "      <td>5</td>\n",
              "      <td>10</td>\n",
              "      <td>8</td>\n",
              "      <td>6</td>\n",
              "      <td>8</td>\n",
              "      <td>13</td>\n",
              "      <td>20</td>\n",
              "      <td>21</td>\n",
              "      <td>nan</td>\n",
              "      <td>nan</td>\n",
              "      <td>nan</td>\n",
              "      <td>nan</td>\n",
              "      <td>nan</td>\n",
              "      <td>nan</td>\n",
              "      <td>nan</td>\n",
              "      <td>nan</td>\n",
              "      <td>nan</td>\n",
              "      <td>nan</td>\n",
              "      <td>16 &gt; 4 &gt; 3 &gt; 5 &gt; 10 &gt; 8 &gt; 6 &gt; 8 &gt; 13 &gt; 20 &gt; 21...</td>\n",
              "    </tr>\n",
              "    <tr>\n",
              "      <th>1</th>\n",
              "      <td>2</td>\n",
              "      <td>1</td>\n",
              "      <td>9</td>\n",
              "      <td>10</td>\n",
              "      <td>1</td>\n",
              "      <td>4</td>\n",
              "      <td>3</td>\n",
              "      <td>21</td>\n",
              "      <td>nan</td>\n",
              "      <td>nan</td>\n",
              "      <td>nan</td>\n",
              "      <td>nan</td>\n",
              "      <td>nan</td>\n",
              "      <td>nan</td>\n",
              "      <td>nan</td>\n",
              "      <td>nan</td>\n",
              "      <td>nan</td>\n",
              "      <td>nan</td>\n",
              "      <td>nan</td>\n",
              "      <td>nan</td>\n",
              "      <td>nan</td>\n",
              "      <td>2 &gt; 1 &gt; 9 &gt; 10 &gt; 1 &gt; 4 &gt; 3 &gt; 21 &gt; nan &gt; nan &gt; ...</td>\n",
              "    </tr>\n",
              "    <tr>\n",
              "      <th>2</th>\n",
              "      <td>9</td>\n",
              "      <td>13</td>\n",
              "      <td>20</td>\n",
              "      <td>16</td>\n",
              "      <td>15</td>\n",
              "      <td>21</td>\n",
              "      <td>nan</td>\n",
              "      <td>nan</td>\n",
              "      <td>nan</td>\n",
              "      <td>nan</td>\n",
              "      <td>nan</td>\n",
              "      <td>nan</td>\n",
              "      <td>nan</td>\n",
              "      <td>nan</td>\n",
              "      <td>nan</td>\n",
              "      <td>nan</td>\n",
              "      <td>nan</td>\n",
              "      <td>nan</td>\n",
              "      <td>nan</td>\n",
              "      <td>nan</td>\n",
              "      <td>nan</td>\n",
              "      <td>9 &gt; 13 &gt; 20 &gt; 16 &gt; 15 &gt; 21 &gt; nan &gt; nan &gt; nan &gt;...</td>\n",
              "    </tr>\n",
              "    <tr>\n",
              "      <th>3</th>\n",
              "      <td>8</td>\n",
              "      <td>15</td>\n",
              "      <td>20</td>\n",
              "      <td>21</td>\n",
              "      <td>nan</td>\n",
              "      <td>nan</td>\n",
              "      <td>nan</td>\n",
              "      <td>nan</td>\n",
              "      <td>nan</td>\n",
              "      <td>nan</td>\n",
              "      <td>nan</td>\n",
              "      <td>nan</td>\n",
              "      <td>nan</td>\n",
              "      <td>nan</td>\n",
              "      <td>nan</td>\n",
              "      <td>nan</td>\n",
              "      <td>nan</td>\n",
              "      <td>nan</td>\n",
              "      <td>nan</td>\n",
              "      <td>nan</td>\n",
              "      <td>nan</td>\n",
              "      <td>8 &gt; 15 &gt; 20 &gt; 21 &gt; nan &gt; nan &gt; nan &gt; nan &gt; nan...</td>\n",
              "    </tr>\n",
              "    <tr>\n",
              "      <th>4</th>\n",
              "      <td>16</td>\n",
              "      <td>9</td>\n",
              "      <td>13</td>\n",
              "      <td>20</td>\n",
              "      <td>21</td>\n",
              "      <td>nan</td>\n",
              "      <td>nan</td>\n",
              "      <td>nan</td>\n",
              "      <td>nan</td>\n",
              "      <td>nan</td>\n",
              "      <td>nan</td>\n",
              "      <td>nan</td>\n",
              "      <td>nan</td>\n",
              "      <td>nan</td>\n",
              "      <td>nan</td>\n",
              "      <td>nan</td>\n",
              "      <td>nan</td>\n",
              "      <td>nan</td>\n",
              "      <td>nan</td>\n",
              "      <td>nan</td>\n",
              "      <td>nan</td>\n",
              "      <td>16 &gt; 9 &gt; 13 &gt; 20 &gt; 21 &gt; nan &gt; nan &gt; nan &gt; nan ...</td>\n",
              "    </tr>\n",
              "  </tbody>\n",
              "</table>\n",
              "</div>"
            ],
            "text/plain": [
              "  R05A.01 R05A.02  ... Output                                               Path\n",
              "0      16       4  ...    nan  16 > 4 > 3 > 5 > 10 > 8 > 6 > 8 > 13 > 20 > 21...\n",
              "1       2       1  ...    nan  2 > 1 > 9 > 10 > 1 > 4 > 3 > 21 > nan > nan > ...\n",
              "2       9      13  ...    nan  9 > 13 > 20 > 16 > 15 > 21 > nan > nan > nan >...\n",
              "3       8      15  ...    nan  8 > 15 > 20 > 21 > nan > nan > nan > nan > nan...\n",
              "4      16       9  ...    nan  16 > 9 > 13 > 20 > 21 > nan > nan > nan > nan ...\n",
              "\n",
              "[5 rows x 22 columns]"
            ]
          },
          "metadata": {},
          "execution_count": 12
        }
      ]
    },
    {
      "cell_type": "code",
      "metadata": {
        "colab": {
          "base_uri": "https://localhost:8080/",
          "height": 571
        },
        "id": "Kh9v0qzaXQRm",
        "outputId": "b397f6c2-c3e3-42e8-83e0-f4fa1e7f18de"
      },
      "source": [
        "# Remove conversion (channel 21)\n",
        "df['Path'] = df['Path'].apply(lambda x: x.split(' > 21')[0])\n",
        "\n",
        "#Create a conversion column\n",
        "df['Conversion'] = 1\n",
        "\n",
        "df.head()"
      ],
      "execution_count": null,
      "outputs": [
        {
          "output_type": "execute_result",
          "data": {
            "text/html": [
              "<div>\n",
              "<style scoped>\n",
              "    .dataframe tbody tr th:only-of-type {\n",
              "        vertical-align: middle;\n",
              "    }\n",
              "\n",
              "    .dataframe tbody tr th {\n",
              "        vertical-align: top;\n",
              "    }\n",
              "\n",
              "    .dataframe thead th {\n",
              "        text-align: right;\n",
              "    }\n",
              "</style>\n",
              "<table border=\"1\" class=\"dataframe\">\n",
              "  <thead>\n",
              "    <tr style=\"text-align: right;\">\n",
              "      <th></th>\n",
              "      <th>R05A.01</th>\n",
              "      <th>R05A.02</th>\n",
              "      <th>R05A.03</th>\n",
              "      <th>R05A.04</th>\n",
              "      <th>R05A.05</th>\n",
              "      <th>R05A.06</th>\n",
              "      <th>R05A.07</th>\n",
              "      <th>R05A.08</th>\n",
              "      <th>R05A.09</th>\n",
              "      <th>R05A.10</th>\n",
              "      <th>R05A.11</th>\n",
              "      <th>R05A.12</th>\n",
              "      <th>R05A.13</th>\n",
              "      <th>R05A.14</th>\n",
              "      <th>R05A.15</th>\n",
              "      <th>R05A.16</th>\n",
              "      <th>R05A.17</th>\n",
              "      <th>R05A.18</th>\n",
              "      <th>R05A.19</th>\n",
              "      <th>R05A.20</th>\n",
              "      <th>Output</th>\n",
              "      <th>Path</th>\n",
              "      <th>Conversion</th>\n",
              "    </tr>\n",
              "  </thead>\n",
              "  <tbody>\n",
              "    <tr>\n",
              "      <th>0</th>\n",
              "      <td>16</td>\n",
              "      <td>4</td>\n",
              "      <td>3</td>\n",
              "      <td>5</td>\n",
              "      <td>10</td>\n",
              "      <td>8</td>\n",
              "      <td>6</td>\n",
              "      <td>8</td>\n",
              "      <td>13</td>\n",
              "      <td>20</td>\n",
              "      <td>21</td>\n",
              "      <td>nan</td>\n",
              "      <td>nan</td>\n",
              "      <td>nan</td>\n",
              "      <td>nan</td>\n",
              "      <td>nan</td>\n",
              "      <td>nan</td>\n",
              "      <td>nan</td>\n",
              "      <td>nan</td>\n",
              "      <td>nan</td>\n",
              "      <td>nan</td>\n",
              "      <td>16 &gt; 4 &gt; 3 &gt; 5 &gt; 10 &gt; 8 &gt; 6 &gt; 8 &gt; 13 &gt; 20</td>\n",
              "      <td>1</td>\n",
              "    </tr>\n",
              "    <tr>\n",
              "      <th>1</th>\n",
              "      <td>2</td>\n",
              "      <td>1</td>\n",
              "      <td>9</td>\n",
              "      <td>10</td>\n",
              "      <td>1</td>\n",
              "      <td>4</td>\n",
              "      <td>3</td>\n",
              "      <td>21</td>\n",
              "      <td>nan</td>\n",
              "      <td>nan</td>\n",
              "      <td>nan</td>\n",
              "      <td>nan</td>\n",
              "      <td>nan</td>\n",
              "      <td>nan</td>\n",
              "      <td>nan</td>\n",
              "      <td>nan</td>\n",
              "      <td>nan</td>\n",
              "      <td>nan</td>\n",
              "      <td>nan</td>\n",
              "      <td>nan</td>\n",
              "      <td>nan</td>\n",
              "      <td>2 &gt; 1 &gt; 9 &gt; 10 &gt; 1 &gt; 4 &gt; 3</td>\n",
              "      <td>1</td>\n",
              "    </tr>\n",
              "    <tr>\n",
              "      <th>2</th>\n",
              "      <td>9</td>\n",
              "      <td>13</td>\n",
              "      <td>20</td>\n",
              "      <td>16</td>\n",
              "      <td>15</td>\n",
              "      <td>21</td>\n",
              "      <td>nan</td>\n",
              "      <td>nan</td>\n",
              "      <td>nan</td>\n",
              "      <td>nan</td>\n",
              "      <td>nan</td>\n",
              "      <td>nan</td>\n",
              "      <td>nan</td>\n",
              "      <td>nan</td>\n",
              "      <td>nan</td>\n",
              "      <td>nan</td>\n",
              "      <td>nan</td>\n",
              "      <td>nan</td>\n",
              "      <td>nan</td>\n",
              "      <td>nan</td>\n",
              "      <td>nan</td>\n",
              "      <td>9 &gt; 13 &gt; 20 &gt; 16 &gt; 15</td>\n",
              "      <td>1</td>\n",
              "    </tr>\n",
              "    <tr>\n",
              "      <th>3</th>\n",
              "      <td>8</td>\n",
              "      <td>15</td>\n",
              "      <td>20</td>\n",
              "      <td>21</td>\n",
              "      <td>nan</td>\n",
              "      <td>nan</td>\n",
              "      <td>nan</td>\n",
              "      <td>nan</td>\n",
              "      <td>nan</td>\n",
              "      <td>nan</td>\n",
              "      <td>nan</td>\n",
              "      <td>nan</td>\n",
              "      <td>nan</td>\n",
              "      <td>nan</td>\n",
              "      <td>nan</td>\n",
              "      <td>nan</td>\n",
              "      <td>nan</td>\n",
              "      <td>nan</td>\n",
              "      <td>nan</td>\n",
              "      <td>nan</td>\n",
              "      <td>nan</td>\n",
              "      <td>8 &gt; 15 &gt; 20</td>\n",
              "      <td>1</td>\n",
              "    </tr>\n",
              "    <tr>\n",
              "      <th>4</th>\n",
              "      <td>16</td>\n",
              "      <td>9</td>\n",
              "      <td>13</td>\n",
              "      <td>20</td>\n",
              "      <td>21</td>\n",
              "      <td>nan</td>\n",
              "      <td>nan</td>\n",
              "      <td>nan</td>\n",
              "      <td>nan</td>\n",
              "      <td>nan</td>\n",
              "      <td>nan</td>\n",
              "      <td>nan</td>\n",
              "      <td>nan</td>\n",
              "      <td>nan</td>\n",
              "      <td>nan</td>\n",
              "      <td>nan</td>\n",
              "      <td>nan</td>\n",
              "      <td>nan</td>\n",
              "      <td>nan</td>\n",
              "      <td>nan</td>\n",
              "      <td>nan</td>\n",
              "      <td>16 &gt; 9 &gt; 13 &gt; 20</td>\n",
              "      <td>1</td>\n",
              "    </tr>\n",
              "  </tbody>\n",
              "</table>\n",
              "</div>"
            ],
            "text/plain": [
              "  R05A.01 R05A.02  ...                                       Path Conversion\n",
              "0      16       4  ...  16 > 4 > 3 > 5 > 10 > 8 > 6 > 8 > 13 > 20          1\n",
              "1       2       1  ...                 2 > 1 > 9 > 10 > 1 > 4 > 3          1\n",
              "2       9      13  ...                      9 > 13 > 20 > 16 > 15          1\n",
              "3       8      15  ...                                8 > 15 > 20          1\n",
              "4      16       9  ...                           16 > 9 > 13 > 20          1\n",
              "\n",
              "[5 rows x 23 columns]"
            ]
          },
          "metadata": {},
          "execution_count": 13
        }
      ]
    },
    {
      "cell_type": "code",
      "metadata": {
        "colab": {
          "base_uri": "https://localhost:8080/",
          "height": 422
        },
        "id": "8GetTUSaXree",
        "outputId": "2f831585-f6bf-4d80-a008-d565a1f63da9"
      },
      "source": [
        "df_clean = df[['Path','Conversion']]\n",
        "\n",
        "# Sum conversion by path\n",
        "df_clean = df_clean.groupby('Path').sum().reset_index()\n",
        "\n",
        "df_clean"
      ],
      "execution_count": null,
      "outputs": [
        {
          "output_type": "execute_result",
          "data": {
            "text/html": [
              "<div>\n",
              "<style scoped>\n",
              "    .dataframe tbody tr th:only-of-type {\n",
              "        vertical-align: middle;\n",
              "    }\n",
              "\n",
              "    .dataframe tbody tr th {\n",
              "        vertical-align: top;\n",
              "    }\n",
              "\n",
              "    .dataframe thead th {\n",
              "        text-align: right;\n",
              "    }\n",
              "</style>\n",
              "<table border=\"1\" class=\"dataframe\">\n",
              "  <thead>\n",
              "    <tr style=\"text-align: right;\">\n",
              "      <th></th>\n",
              "      <th>Path</th>\n",
              "      <th>Conversion</th>\n",
              "    </tr>\n",
              "  </thead>\n",
              "  <tbody>\n",
              "    <tr>\n",
              "      <th>0</th>\n",
              "      <td>1 &gt; 1 &gt; 1 &gt; 20</td>\n",
              "      <td>1</td>\n",
              "    </tr>\n",
              "    <tr>\n",
              "      <th>1</th>\n",
              "      <td>1 &gt; 1 &gt; 12 &gt; 12</td>\n",
              "      <td>1</td>\n",
              "    </tr>\n",
              "    <tr>\n",
              "      <th>2</th>\n",
              "      <td>1 &gt; 1 &gt; 14 &gt; 13 &gt; 12 &gt; 20</td>\n",
              "      <td>1</td>\n",
              "    </tr>\n",
              "    <tr>\n",
              "      <th>3</th>\n",
              "      <td>1 &gt; 1 &gt; 3 &gt; 13 &gt; 3 &gt; 20</td>\n",
              "      <td>1</td>\n",
              "    </tr>\n",
              "    <tr>\n",
              "      <th>4</th>\n",
              "      <td>1 &gt; 1 &gt; 3 &gt; 17 &gt; 17</td>\n",
              "      <td>1</td>\n",
              "    </tr>\n",
              "    <tr>\n",
              "      <th>...</th>\n",
              "      <td>...</td>\n",
              "      <td>...</td>\n",
              "    </tr>\n",
              "    <tr>\n",
              "      <th>1901</th>\n",
              "      <td>9 &gt; 9 &gt; 4 &gt; 3 &gt; 9 &gt; 20</td>\n",
              "      <td>1</td>\n",
              "    </tr>\n",
              "    <tr>\n",
              "      <th>1902</th>\n",
              "      <td>9 &gt; 9 &gt; 4 &gt; 6 &gt; 4</td>\n",
              "      <td>1</td>\n",
              "    </tr>\n",
              "    <tr>\n",
              "      <th>1903</th>\n",
              "      <td>9 &gt; 9 &gt; 5 &gt; 13 &gt; 16</td>\n",
              "      <td>1</td>\n",
              "    </tr>\n",
              "    <tr>\n",
              "      <th>1904</th>\n",
              "      <td>9 &gt; 9 &gt; 6</td>\n",
              "      <td>1</td>\n",
              "    </tr>\n",
              "    <tr>\n",
              "      <th>1905</th>\n",
              "      <td>9 &gt; 9 &gt; 9 &gt; 17 &gt; 17 &gt; 20</td>\n",
              "      <td>1</td>\n",
              "    </tr>\n",
              "  </tbody>\n",
              "</table>\n",
              "<p>1906 rows × 2 columns</p>\n",
              "</div>"
            ],
            "text/plain": [
              "                           Path  Conversion\n",
              "0                1 > 1 > 1 > 20           1\n",
              "1               1 > 1 > 12 > 12           1\n",
              "2     1 > 1 > 14 > 13 > 12 > 20           1\n",
              "3       1 > 1 > 3 > 13 > 3 > 20           1\n",
              "4           1 > 1 > 3 > 17 > 17           1\n",
              "...                         ...         ...\n",
              "1901     9 > 9 > 4 > 3 > 9 > 20           1\n",
              "1902          9 > 9 > 4 > 6 > 4           1\n",
              "1903        9 > 9 > 5 > 13 > 16           1\n",
              "1904                  9 > 9 > 6           1\n",
              "1905   9 > 9 > 9 > 17 > 17 > 20           1\n",
              "\n",
              "[1906 rows x 2 columns]"
            ]
          },
          "metadata": {},
          "execution_count": 17
        }
      ]
    },
    {
      "cell_type": "code",
      "metadata": {
        "id": "iRtKMLX4dONu"
      },
      "source": [
        "path = '1 > 1 > 3 > 17 > 17 >'"
      ],
      "execution_count": null,
      "outputs": []
    },
    {
      "cell_type": "code",
      "metadata": {
        "colab": {
          "base_uri": "https://localhost:8080/",
          "height": 35
        },
        "id": "U3sE8u_7dRO-",
        "outputId": "2666d68c-19b3-4d9f-cc9e-9a0c13af3d15"
      },
      "source": [
        "path.split(' > ')[0]"
      ],
      "execution_count": null,
      "outputs": [
        {
          "output_type": "execute_result",
          "data": {
            "application/vnd.google.colaboratory.intrinsic+json": {
              "type": "string"
            },
            "text/plain": [
              "'1'"
            ]
          },
          "metadata": {},
          "execution_count": 2
        }
      ]
    },
    {
      "cell_type": "code",
      "metadata": {
        "colab": {
          "base_uri": "https://localhost:8080/",
          "height": 35
        },
        "id": "puFWrP5odW8F",
        "outputId": "b4e1ffee-421b-45a7-d216-94d1d88f0857"
      },
      "source": [
        "path.split(' >')[-2]"
      ],
      "execution_count": null,
      "outputs": [
        {
          "output_type": "execute_result",
          "data": {
            "application/vnd.google.colaboratory.intrinsic+json": {
              "type": "string"
            },
            "text/plain": [
              "' 17'"
            ]
          },
          "metadata": {},
          "execution_count": 5
        }
      ]
    },
    {
      "cell_type": "markdown",
      "metadata": {
        "id": "HTknvDGPYdIA"
      },
      "source": [
        "# First Click"
      ]
    },
    {
      "cell_type": "code",
      "metadata": {
        "colab": {
          "base_uri": "https://localhost:8080/",
          "height": 205
        },
        "id": "j6T2gfSebxP5",
        "outputId": "dc2f70ba-0c90-45db-d1c6-51728a7ee2b5"
      },
      "source": [
        "df_first = pd.DataFrame()\n",
        "\n",
        "df_first['first_interaction'] = df_clean['Path'].apply(lambda x: x.split(' > ')[0])\n",
        "df_first['Channel'] = df_first['first_interaction']\n",
        "df_first['Conversion'] = 1\n",
        "df_first['Attribution'] = 'First Click'\n",
        "df_first.head()"
      ],
      "execution_count": null,
      "outputs": [
        {
          "output_type": "execute_result",
          "data": {
            "text/html": [
              "<div>\n",
              "<style scoped>\n",
              "    .dataframe tbody tr th:only-of-type {\n",
              "        vertical-align: middle;\n",
              "    }\n",
              "\n",
              "    .dataframe tbody tr th {\n",
              "        vertical-align: top;\n",
              "    }\n",
              "\n",
              "    .dataframe thead th {\n",
              "        text-align: right;\n",
              "    }\n",
              "</style>\n",
              "<table border=\"1\" class=\"dataframe\">\n",
              "  <thead>\n",
              "    <tr style=\"text-align: right;\">\n",
              "      <th></th>\n",
              "      <th>first_interaction</th>\n",
              "      <th>Channel</th>\n",
              "      <th>Conversion</th>\n",
              "      <th>Attribution</th>\n",
              "    </tr>\n",
              "  </thead>\n",
              "  <tbody>\n",
              "    <tr>\n",
              "      <th>0</th>\n",
              "      <td>1</td>\n",
              "      <td>1</td>\n",
              "      <td>1</td>\n",
              "      <td>First Click</td>\n",
              "    </tr>\n",
              "    <tr>\n",
              "      <th>1</th>\n",
              "      <td>1</td>\n",
              "      <td>1</td>\n",
              "      <td>1</td>\n",
              "      <td>First Click</td>\n",
              "    </tr>\n",
              "    <tr>\n",
              "      <th>2</th>\n",
              "      <td>1</td>\n",
              "      <td>1</td>\n",
              "      <td>1</td>\n",
              "      <td>First Click</td>\n",
              "    </tr>\n",
              "    <tr>\n",
              "      <th>3</th>\n",
              "      <td>1</td>\n",
              "      <td>1</td>\n",
              "      <td>1</td>\n",
              "      <td>First Click</td>\n",
              "    </tr>\n",
              "    <tr>\n",
              "      <th>4</th>\n",
              "      <td>1</td>\n",
              "      <td>1</td>\n",
              "      <td>1</td>\n",
              "      <td>First Click</td>\n",
              "    </tr>\n",
              "  </tbody>\n",
              "</table>\n",
              "</div>"
            ],
            "text/plain": [
              "  first_interaction Channel  Conversion  Attribution\n",
              "0                 1       1           1  First Click\n",
              "1                 1       1           1  First Click\n",
              "2                 1       1           1  First Click\n",
              "3                 1       1           1  First Click\n",
              "4                 1       1           1  First Click"
            ]
          },
          "metadata": {},
          "execution_count": 72
        }
      ]
    },
    {
      "cell_type": "code",
      "metadata": {
        "colab": {
          "base_uri": "https://localhost:8080/",
          "height": 205
        },
        "id": "39LcR8BAcW4R",
        "outputId": "7f2b6616-9b2c-47d1-c023-d1e506543004"
      },
      "source": [
        "  #COLLECT COUNTS\n",
        "df_first_grouped = df_first.groupby(df_first.columns.tolist()).size().reset_index().rename(columns={0:'records'}).sort_values(by='records',ascending=False)\n",
        "df_first_grouped.head()"
      ],
      "execution_count": null,
      "outputs": [
        {
          "output_type": "execute_result",
          "data": {
            "text/html": [
              "<div>\n",
              "<style scoped>\n",
              "    .dataframe tbody tr th:only-of-type {\n",
              "        vertical-align: middle;\n",
              "    }\n",
              "\n",
              "    .dataframe tbody tr th {\n",
              "        vertical-align: top;\n",
              "    }\n",
              "\n",
              "    .dataframe thead th {\n",
              "        text-align: right;\n",
              "    }\n",
              "</style>\n",
              "<table border=\"1\" class=\"dataframe\">\n",
              "  <thead>\n",
              "    <tr style=\"text-align: right;\">\n",
              "      <th></th>\n",
              "      <th>first_interaction</th>\n",
              "      <th>Channel</th>\n",
              "      <th>Conversion</th>\n",
              "      <th>Attribution</th>\n",
              "      <th>records</th>\n",
              "    </tr>\n",
              "  </thead>\n",
              "  <tbody>\n",
              "    <tr>\n",
              "      <th>1</th>\n",
              "      <td>10</td>\n",
              "      <td>10</td>\n",
              "      <td>1</td>\n",
              "      <td>First Click</td>\n",
              "      <td>440</td>\n",
              "    </tr>\n",
              "    <tr>\n",
              "      <th>4</th>\n",
              "      <td>13</td>\n",
              "      <td>13</td>\n",
              "      <td>1</td>\n",
              "      <td>First Click</td>\n",
              "      <td>245</td>\n",
              "    </tr>\n",
              "    <tr>\n",
              "      <th>18</th>\n",
              "      <td>9</td>\n",
              "      <td>9</td>\n",
              "      <td>1</td>\n",
              "      <td>First Click</td>\n",
              "      <td>176</td>\n",
              "    </tr>\n",
              "    <tr>\n",
              "      <th>13</th>\n",
              "      <td>4</td>\n",
              "      <td>4</td>\n",
              "      <td>1</td>\n",
              "      <td>First Click</td>\n",
              "      <td>167</td>\n",
              "    </tr>\n",
              "    <tr>\n",
              "      <th>11</th>\n",
              "      <td>2</td>\n",
              "      <td>2</td>\n",
              "      <td>1</td>\n",
              "      <td>First Click</td>\n",
              "      <td>166</td>\n",
              "    </tr>\n",
              "  </tbody>\n",
              "</table>\n",
              "</div>"
            ],
            "text/plain": [
              "   first_interaction Channel  Conversion  Attribution  records\n",
              "1                 10      10           1  First Click      440\n",
              "4                 13      13           1  First Click      245\n",
              "18                 9       9           1  First Click      176\n",
              "13                 4       4           1  First Click      167\n",
              "11                 2       2           1  First Click      166"
            ]
          },
          "metadata": {},
          "execution_count": 73
        }
      ]
    },
    {
      "cell_type": "code",
      "metadata": {
        "id": "SL4o728CeKN7"
      },
      "source": [
        "def plot_graph(col,df=df):\n",
        "    sns.set_style(\"whitegrid\")\n",
        "    plt.figure(figsize=(15,5))\n",
        "    graph=sns.countplot(x=col, data=df,order=pd.value_counts(df[col]).iloc[:15].index,palette='viridis')\n",
        "    plt.setp(graph.get_xticklabels(), rotation=30)\n",
        "    plt.tight_layout"
      ],
      "execution_count": null,
      "outputs": []
    },
    {
      "cell_type": "code",
      "metadata": {
        "colab": {
          "base_uri": "https://localhost:8080/",
          "height": 339
        },
        "id": "hKyCYBSfeZ32",
        "outputId": "d2dc907f-8e1e-434b-c774-d9551cbec31e"
      },
      "source": [
        "plot_graph('Channel',df_first)\n",
        "plt.ylabel('Número de conversões')\n",
        "# plt.savefig(\"utm_source\")\n",
        "plt.show()"
      ],
      "execution_count": null,
      "outputs": [
        {
          "output_type": "display_data",
          "data": {
            "image/png": "[encoded data removed]",
            "text/plain": [
              "<Figure size 1080x360 with 1 Axes>"
            ]
          },
          "metadata": {}
        }
      ]
    },
    {
      "cell_type": "markdown",
      "metadata": {
        "id": "upyGdFmCe1MV"
      },
      "source": [
        "# Last Click"
      ]
    },
    {
      "cell_type": "code",
      "metadata": {
        "colab": {
          "base_uri": "https://localhost:8080/",
          "height": 205
        },
        "id": "vKtZWElAfuN6",
        "outputId": "ea0a5692-3f3c-46b8-cc30-d4b9c6b0392c"
      },
      "source": [
        "df_last = pd.DataFrame()\n",
        "\n",
        "df_last['last_interaction'] = df_clean['Path'].apply(lambda x: x.split(' > ')[-1])\n",
        "df_last['Channel'] = df_last['last_interaction']\n",
        "df_last['Conversion'] = 1\n",
        "df_last['Attribution'] = 'Last Click'\n",
        "df_last.head()"
      ],
      "execution_count": null,
      "outputs": [
        {
          "output_type": "execute_result",
          "data": {
            "text/html": [
              "<div>\n",
              "<style scoped>\n",
              "    .dataframe tbody tr th:only-of-type {\n",
              "        vertical-align: middle;\n",
              "    }\n",
              "\n",
              "    .dataframe tbody tr th {\n",
              "        vertical-align: top;\n",
              "    }\n",
              "\n",
              "    .dataframe thead th {\n",
              "        text-align: right;\n",
              "    }\n",
              "</style>\n",
              "<table border=\"1\" class=\"dataframe\">\n",
              "  <thead>\n",
              "    <tr style=\"text-align: right;\">\n",
              "      <th></th>\n",
              "      <th>last_interaction</th>\n",
              "      <th>Channel</th>\n",
              "      <th>Conversion</th>\n",
              "      <th>Attribution</th>\n",
              "    </tr>\n",
              "  </thead>\n",
              "  <tbody>\n",
              "    <tr>\n",
              "      <th>0</th>\n",
              "      <td>20</td>\n",
              "      <td>20</td>\n",
              "      <td>1</td>\n",
              "      <td>Last Click</td>\n",
              "    </tr>\n",
              "    <tr>\n",
              "      <th>1</th>\n",
              "      <td>12</td>\n",
              "      <td>12</td>\n",
              "      <td>1</td>\n",
              "      <td>Last Click</td>\n",
              "    </tr>\n",
              "    <tr>\n",
              "      <th>2</th>\n",
              "      <td>20</td>\n",
              "      <td>20</td>\n",
              "      <td>1</td>\n",
              "      <td>Last Click</td>\n",
              "    </tr>\n",
              "    <tr>\n",
              "      <th>3</th>\n",
              "      <td>20</td>\n",
              "      <td>20</td>\n",
              "      <td>1</td>\n",
              "      <td>Last Click</td>\n",
              "    </tr>\n",
              "    <tr>\n",
              "      <th>4</th>\n",
              "      <td>17</td>\n",
              "      <td>17</td>\n",
              "      <td>1</td>\n",
              "      <td>Last Click</td>\n",
              "    </tr>\n",
              "  </tbody>\n",
              "</table>\n",
              "</div>"
            ],
            "text/plain": [
              "  last_interaction Channel  Conversion Attribution\n",
              "0               20      20           1  Last Click\n",
              "1               12      12           1  Last Click\n",
              "2               20      20           1  Last Click\n",
              "3               20      20           1  Last Click\n",
              "4               17      17           1  Last Click"
            ]
          },
          "metadata": {},
          "execution_count": 76
        }
      ]
    },
    {
      "cell_type": "code",
      "metadata": {
        "colab": {
          "base_uri": "https://localhost:8080/",
          "height": 339
        },
        "id": "k4K3Dz7-fzWJ",
        "outputId": "ab70c8ab-ff19-4b06-a9a9-df2e43113a9b"
      },
      "source": [
        "plot_graph('Channel',df_last)\n",
        "plt.ylabel('Número de conversões')\n",
        "# plt.savefig(\"utm_source\")\n",
        "plt.show()"
      ],
      "execution_count": null,
      "outputs": [
        {
          "output_type": "display_data",
          "data": {
            "image/png": "[encoded data removed]",
            "text/plain": [
              "<Figure size 1080x360 with 1 Axes>"
            ]
          },
          "metadata": {}
        }
      ]
    },
    {
      "cell_type": "code",
      "metadata": {
        "colab": {
          "base_uri": "https://localhost:8080/",
          "height": 431
        },
        "id": "qnjdFHgAf2g4",
        "outputId": "eb677696-1171-452a-b1b2-ed602b00952b"
      },
      "source": [
        "fig, axes = plt.subplots(1, 2, figsize=(15, 5), sharey=True)\n",
        "fig.suptitle('Comparison: FC/LC')\n",
        "\n",
        "# First Click\n",
        "sns.set_style(\"whitegrid\")\n",
        "plt.figure(figsize=(15,5))\n",
        "graph=sns.countplot(ax=axes[0],x='first_interaction', data=df_first,order=pd.value_counts(df_first['first_interaction']).iloc[:15].index,palette='viridis')\n",
        "plt.setp(graph.get_xticklabels(), rotation=30)\n",
        "plt.tight_layout\n",
        "\n",
        "# Last Click\n",
        "sns.set_style(\"whitegrid\")\n",
        "plt.figure(figsize=(15,5))\n",
        "graph=sns.countplot(ax=axes[1],x='last_interaction', data=df_last,order=pd.value_counts(df_last['last_interaction']).iloc[:15].index,palette='viridis')\n",
        "plt.setp(graph.get_xticklabels(), rotation=30)\n",
        "plt.tight_layout\n"
      ],
      "execution_count": null,
      "outputs": [
        {
          "output_type": "execute_result",
          "data": {
            "text/plain": [
              "<function matplotlib.pyplot.tight_layout>"
            ]
          },
          "metadata": {},
          "execution_count": 85
        },
        {
          "output_type": "display_data",
          "data": {
            "image/png": "[encoded data removed]",
            "text/plain": [
              "<Figure size 1080x360 with 2 Axes>"
            ]
          },
          "metadata": {}
        },
        {
          "output_type": "display_data",
          "data": {
            "text/plain": [
              "<Figure size 1080x360 with 0 Axes>"
            ]
          },
          "metadata": {}
        },
        {
          "output_type": "display_data",
          "data": {
            "text/plain": [
              "<Figure size 1080x360 with 0 Axes>"
            ]
          },
          "metadata": {}
        }
      ]
    },
    {
      "cell_type": "markdown",
      "metadata": {
        "id": "-MwWeQUQgOum"
      },
      "source": [
        "#Linear Model"
      ]
    },
    {
      "cell_type": "code",
      "metadata": {
        "id": "XQ_3pe5ChKYz"
      },
      "source": [
        "channel = []\n",
        "conversion = []\n",
        "for i in df_clean.index:\n",
        "    for j in df_clean.at[i, 'Path'].split(' > '):\n",
        "        channel.append(j)\n",
        "        conversion.append(1/len(df_clean.at[i, 'Path'].split(' > ')))\n",
        "df_linear_model = pd.DataFrame()\n",
        "df_linear_model['Channel'] = channel\n",
        "df_linear_model['Attribution'] = 'Linear'\n",
        "df_linear_model['Conversion'] = conversion\n",
        "df_linear_model = df_linear_model.groupby(['Channel']).sum().reset_index()"
      ],
      "execution_count": null,
      "outputs": []
    },
    {
      "cell_type": "code",
      "metadata": {
        "colab": {
          "base_uri": "https://localhost:8080/",
          "height": 205
        },
        "id": "kzTxQ7G6hmaH",
        "outputId": "ce527f07-0526-4555-f9a7-e3bbcf640c36"
      },
      "source": [
        "df_linear_model.head()"
      ],
      "execution_count": null,
      "outputs": [
        {
          "output_type": "execute_result",
          "data": {
            "text/html": [
              "<div>\n",
              "<style scoped>\n",
              "    .dataframe tbody tr th:only-of-type {\n",
              "        vertical-align: middle;\n",
              "    }\n",
              "\n",
              "    .dataframe tbody tr th {\n",
              "        vertical-align: top;\n",
              "    }\n",
              "\n",
              "    .dataframe thead th {\n",
              "        text-align: right;\n",
              "    }\n",
              "</style>\n",
              "<table border=\"1\" class=\"dataframe\">\n",
              "  <thead>\n",
              "    <tr style=\"text-align: right;\">\n",
              "      <th></th>\n",
              "      <th>Channel</th>\n",
              "      <th>Conversion</th>\n",
              "    </tr>\n",
              "  </thead>\n",
              "  <tbody>\n",
              "    <tr>\n",
              "      <th>0</th>\n",
              "      <td>1</td>\n",
              "      <td>66.873661</td>\n",
              "    </tr>\n",
              "    <tr>\n",
              "      <th>1</th>\n",
              "      <td>10</td>\n",
              "      <td>168.222393</td>\n",
              "    </tr>\n",
              "    <tr>\n",
              "      <th>2</th>\n",
              "      <td>11</td>\n",
              "      <td>88.625714</td>\n",
              "    </tr>\n",
              "    <tr>\n",
              "      <th>3</th>\n",
              "      <td>12</td>\n",
              "      <td>67.961197</td>\n",
              "    </tr>\n",
              "    <tr>\n",
              "      <th>4</th>\n",
              "      <td>13</td>\n",
              "      <td>161.356219</td>\n",
              "    </tr>\n",
              "  </tbody>\n",
              "</table>\n",
              "</div>"
            ],
            "text/plain": [
              "  Channel  Conversion\n",
              "0       1   66.873661\n",
              "1      10  168.222393\n",
              "2      11   88.625714\n",
              "3      12   67.961197\n",
              "4      13  161.356219"
            ]
          },
          "metadata": {},
          "execution_count": 80
        }
      ]
    },
    {
      "cell_type": "code",
      "metadata": {
        "colab": {
          "base_uri": "https://localhost:8080/",
          "height": 357
        },
        "id": "-xpO_R9zhr7z",
        "outputId": "4a8edad5-f88b-498b-b551-d483c3e3877c"
      },
      "source": [
        "sns.set_style(\"whitegrid\")\n",
        "plt.figure(figsize=(15,5))\n",
        "graph= sns.barplot(x=\"Channel\", y=\"Conversion\", data=df_linear_model, palette='viridis')\n",
        "plt.setp(graph.get_xticklabels(), rotation=30)\n",
        "plt.tight_layout"
      ],
      "execution_count": null,
      "outputs": [
        {
          "output_type": "execute_result",
          "data": {
            "text/plain": [
              "<function matplotlib.pyplot.tight_layout>"
            ]
          },
          "metadata": {},
          "execution_count": 81
        },
        {
          "output_type": "display_data",
          "data": {
            "image/png": "[encoded data removed]",
            "text/plain": [
              "<Figure size 1080x360 with 1 Axes>"
            ]
          },
          "metadata": {}
        }
      ]
    },
    {
      "cell_type": "code",
      "metadata": {
        "colab": {
          "base_uri": "https://localhost:8080/",
          "height": 395
        },
        "id": "zKPNSdbhjoVw",
        "outputId": "0e9533c7-536e-4f0a-e489-11bd73bfb8c8"
      },
      "source": [
        "fig, axes = plt.subplots(1, 3, figsize=(25, 5), sharey=True)\n",
        "fig.suptitle('Attribution Models')\n",
        "\n",
        "# First Click\n",
        "sns.set_style(\"whitegrid\")\n",
        "graph=sns.countplot(ax=axes[0],x='first_interaction', data=df_first,order=pd.value_counts(df_first['first_interaction']).iloc[:15].index,palette='viridis')\n",
        "plt.setp(graph.get_xticklabels(), rotation=30)\n",
        "plt.tight_layout\n",
        "\n",
        "# Last Click\n",
        "sns.set_style(\"whitegrid\")\n",
        "graph=sns.countplot(ax=axes[1],x='last_interaction', data=df_last,order=pd.value_counts(df_last['last_interaction']).iloc[:15].index,palette='viridis')\n",
        "plt.setp(graph.get_xticklabels(), rotation=30)\n",
        "plt.tight_layout\n",
        "\n",
        "# Linear Model\n",
        "sns.set_style(\"whitegrid\")\n",
        "graph= sns.barplot(x=\"Channel\", y=\"Conversion\", data=df_linear_model, palette='viridis')\n",
        "plt.setp(graph.get_xticklabels(), rotation=30)\n",
        "plt.tight_layout"
      ],
      "execution_count": null,
      "outputs": [
        {
          "output_type": "execute_result",
          "data": {
            "text/plain": [
              "<function matplotlib.pyplot.tight_layout>"
            ]
          },
          "metadata": {},
          "execution_count": 90
        },
        {
          "output_type": "display_data",
          "data": {
            "image/png": "[encoded data removed]",
            "text/plain": [
              "<Figure size 1800x360 with 3 Axes>"
            ]
          },
          "metadata": {}
        }
      ]
    },
    {
      "cell_type": "markdown",
      "metadata": {
        "id": "XABW-I7ulTza"
      },
      "source": [
        "# Markov Chain"
      ]
    },
    {
      "cell_type": "code",
      "metadata": {
        "id": "mvN09SFYmRIW"
      },
      "source": [
        ""
      ],
      "execution_count": null,
      "outputs": []
    }
  ]
}